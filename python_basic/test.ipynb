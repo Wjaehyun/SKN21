{
 "cells": [
  {
   "cell_type": "markdown",
   "id": "7f45cf87",
   "metadata": {},
   "source": [
    "# Cell\n",
    "        - 입력 단위\n",
    "**파이썬코드**\n",
    "        \n",
    "        + Code 누를 시\n",
    "\n",
    "**Markdown**\n",
    "        \n",
    "        + Markdown 누를 시 생성\n",
    "        LLM과 소통이 더 좋다."
   ]
  },
  {
   "cell_type": "code",
   "execution_count": null,
   "id": "1d0f113e",
   "metadata": {},
   "outputs": [
    {
     "data": {
      "text/plain": [
       "2"
      ]
     },
     "execution_count": 9,
     "metadata": {},
     "output_type": "execute_result"
    }
   ],
   "source": [
    "# 실행1: Ctrl + Enter > 현 코드 상태, Enter 한 번더 누를 시 작업 가능\n",
    "# 실행2: Shift + Enter > 다음 Cell 생성\n",
    "# cell 생성 : a(위), b(아래) *현재 cell과 동일한 셀을 생성\n",
    "# cell 이름 클릭하여 cell 상태 변경 가능"
   ]
  },
  {
   "cell_type": "code",
   "execution_count": null,
   "id": "ad3d07e2",
   "metadata": {},
   "outputs": [],
   "source": [
    "# 250930 PCCE #10quiz\n",
    "\n",
    "import re\n",
    "string = \"1+24-45*4+11\"\n",
    "number = []\n",
    "oper = []\n",
    "split_string = re.split('([^0-9])',string)\n",
    "for i in range (len(split_string)):\n",
    "    if split_string[i] == \"\":\n",
    "        continue\n",
    "    if split_string[i].isdigit():\n",
    "        number.append(int(split_string[i]))\n",
    "    else:\n",
    "        oper.append(split_string[i])\n",
    "\n",
    "print(number)\n",
    "print(oper)\n",
    "\n",
    "sum = number[0]\n",
    "print(sum)\n",
    "\n",
    "for v in range(1, len(number)):\n",
    "    if oper[v-1] == '+':\n",
    "        sum += number[v]\n",
    "    elif oper[v-1] == '-':\n",
    "        sum -= number[v]\n",
    "    elif oper[v-1] == '*':\n",
    "        sum *= number[v]\n",
    "    elif oper[v-1] == '/':\n",
    "        sum /= number[v]\n",
    "    print(sum)\n",
    "\n",
    "print(sum)\n"
   ]
  }
 ],
 "metadata": {
  "kernelspec": {
   "display_name": "Python 3",
   "language": "python",
   "name": "python3"
  },
  "language_info": {
   "codemirror_mode": {
    "name": "ipython",
    "version": 3
   },
   "file_extension": ".py",
   "mimetype": "text/x-python",
   "name": "python",
   "nbconvert_exporter": "python",
   "pygments_lexer": "ipython3",
   "version": "3.13.7"
  }
 },
 "nbformat": 4,
 "nbformat_minor": 5
}
