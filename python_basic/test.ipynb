{
 "cells": [
  {
   "cell_type": "markdown",
   "id": "7f45cf87",
   "metadata": {},
   "source": [
    "# Cell\n",
    "        - 입력 단위\n",
    "**파이썬코드**\n",
    "        \n",
    "        + Code 누를 시\n",
    "\n",
    "**Markdown**\n",
    "        \n",
    "        + Markdown 누를 시 생성\n",
    "        LLM과 소통이 더 좋다."
   ]
  },
  {
   "cell_type": "code",
   "execution_count": 9,
   "id": "1d0f113e",
   "metadata": {},
   "outputs": [
    {
     "data": {
      "text/plain": [
       "2"
      ]
     },
     "execution_count": 9,
     "metadata": {},
     "output_type": "execute_result"
    }
   ],
   "source": [
    "# 실행1: Ctrl + Enter > 현 코드 상태, Enter 한 번더 누를 시 작업 가능\n",
    "# 실행2: Shift + Enter > 다음 Cell 생성\n",
    "# cell 생성 : a(위), b(아래) *현재 cell과 동일한 셀을 생성\n",
    "# cell 이름 클릭하여 cell 상태 변경 가능\n",
    "1+1"
   ]
  }
 ],
 "metadata": {
  "kernelspec": {
   "display_name": "Python 3",
   "language": "python",
   "name": "python3"
  },
  "language_info": {
   "codemirror_mode": {
    "name": "ipython",
    "version": 3
   },
   "file_extension": ".py",
   "mimetype": "text/x-python",
   "name": "python",
   "nbconvert_exporter": "python",
   "pygments_lexer": "ipython3",
   "version": "3.13.7"
  }
 },
 "nbformat": 4,
 "nbformat_minor": 5
}
