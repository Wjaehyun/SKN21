{
 "cells": [
  {
   "cell_type": "markdown",
   "metadata": {
    "slideshow": {
     "slide_type": "slide"
    }
   },
   "source": [
    "# Path (경로)\n",
    "\n",
    "- **경로(Path)**\n",
    "    - 프로그램에서 사용할 **자원의 위치를 path(경로)** 라고 한다.\n",
    "    - **파일 시스템**에서는 파일이나 디렉토리가 있는 위치의 경로를 말한다.\n",
    "    "
   ]
  },
  {
   "cell_type": "markdown",
   "metadata": {
    "slideshow": {
     "slide_type": "slide"
    }
   },
   "source": [
    "- **절대경로**\n",
    "    - 자원의 전체 경로를 표현하는 방식\n",
    "    - 시작 경로부터 자원(파일, 디렉토리)이 있는 위치까지 표현한다.\n",
    "        - 시작 경로: Root Path\n",
    "            - windows: `c:`, `d:`\n",
    "            - Unix, Linux: `/`"
   ]
  },
  {
   "cell_type": "markdown",
   "metadata": {
    "slideshow": {
     "slide_type": "fragment"
    }
   },
   "source": [
    "- **상대경로**\n",
    "    - 현재 작업 경로(위치)에서 부터 자원이 있는 위치까지 표현한다.\n",
    "        - 시작 경로: 현재 작업경로\n",
    "    - 구문\n",
    "        - `.` : 현재 디렉토리\n",
    "        - `..`: 상위 디렉토리\n",
    "        - `/` : 경로 구분자,  상위경로/하위경로"
   ]
  },
  {
   "cell_type": "markdown",
   "metadata": {
    "slideshow": {
     "slide_type": "fragment"
    }
   },
   "source": [
    "- 운영체제(O/S)별 경로구분자\n",
    "    - 윈도우즈: `\\` (역슬래쉬)\n",
    "    - 리눅스/유닉스: `/` (슬래쉬)"
   ]
  },
  {
   "cell_type": "code",
   "execution_count": null,
   "metadata": {
    "slideshow": {
     "slide_type": "fragment"
    }
   },
   "outputs": [],
   "source": [
    "# python에서 경로 지정 -> str\n",
    "# 경로구분자로 '\\' 사용 시 r-string을 사용하거나 '\\\\'로 지정\n",
    "'c:\\\\temp'\n",
    "r\"c:\\temp\"\n",
    "\"c:/temp\" # 파이썬에서 처리해주기 때문에, windows 에서도 / 를 경로구분자로 사용할 수 있다."
   ]
  },
  {
   "cell_type": "code",
   "execution_count": null,
   "metadata": {},
   "outputs": [
    {
     "name": "stdout",
     "output_type": "stream",
     "text": [
      "<class 'str'> c:\\documents\\SKN21\\python_basic\n"
     ]
    }
   ],
   "source": [
    "# 현재 작업 디렉토리 조회 - python script.py -> 실행한 경로\n",
    "import os #운영체제가 제공하는 명령어를 python 코드로 실행하는 함수들 제공하는 표준모듈\n",
    "\n",
    "# 현재 작업 디렉토리 확인(절대경로)\n",
    "wd = os.getcwd()\n",
    "print(type(wd),wd)"
   ]
  },
  {
   "cell_type": "code",
   "execution_count": null,
   "metadata": {},
   "outputs": [],
   "source": [
    "# 디렉토리 생성\n",
    "# 이미 같은 이름이 있을 경우 생성 불가.(에러)\n",
    "os.mkdir(\"new_dir\")\n",
    "# 현재 디렉토리 밑에 생성(상대경로, ./ 생략)"
   ]
  },
  {
   "cell_type": "code",
   "execution_count": 2,
   "metadata": {},
   "outputs": [],
   "source": [
    "# 있으면 True, 없으면 False(지정 경로에 있는지 여부)\n",
    "# os.path.exists(\"new_dir\")\n",
    "\n",
    "# 이렇게 하거나 try문으로 해도 된다.\n",
    "if not os.path.exists(\"new_dir\"):\n",
    "    os.mkdir(\"new_dir\")"
   ]
  },
  {
   "cell_type": "code",
   "execution_count": null,
   "metadata": {},
   "outputs": [
    {
     "name": "stdout",
     "output_type": "stream",
     "text": [
      "삭제할 경로가 없음.\n"
     ]
    }
   ],
   "source": [
    "# 디렉토리 삭제\n",
    "# os.rmdir(\"new_dir\")\n",
    "\n",
    "# 위와 동일하게 확인하여 삭제 가능\n",
    "try:\n",
    "    os.rmdir(\"new_dir\")\n",
    "except FileNotFoundError:\n",
    "    print(\"삭제할 경로가 없음.\")"
   ]
  },
  {
   "cell_type": "code",
   "execution_count": null,
   "metadata": {},
   "outputs": [],
   "source": [
    "# os.mkdir(\"a/b/c/d\")\n",
    "# a 하위 b 하위 c 하위 d 폴더 생성요청\n",
    "# a, b, c 폴더가 없어서 생성 불가(생성할 디렉토리의 위치(a)가 없으면 에러 발생)\n",
    "\n",
    "# os.makedirs(\"a/b/c/d\")\n",
    "\n",
    "# 있으면 그냥 넘어감, 없으면 생성\n",
    "os.makedirs(\"a/b/c/d\", exist_ok=True)"
   ]
  },
  {
   "cell_type": "code",
   "execution_count": null,
   "metadata": {},
   "outputs": [],
   "source": [
    "# 절대경로: root path로 시작하는 경로\n",
    "r\"c:\\a\\b\\c\" # windows\n",
    "\"\\a\\b\\c\" # linux\n",
    "\n",
    "# 상대경로: 현재 경로에서 시작, Root path로 시작하지 않으며 상대경로\n",
    "\"./a/b/c\" # ./ 생략 가능\n",
    "\"a/b/c\""
   ]
  },
  {
   "cell_type": "markdown",
   "metadata": {
    "slideshow": {
     "slide_type": "slide"
    }
   },
   "source": [
    "# 입출력 (IO)\n",
    "\n",
    "## 입출력이란\n",
    "- 프로그램이 사용하려는 외부 자원을 연결하여 데이터를 입력 받거나 출력하는 작업을 IO라고 한다.\n",
    "- 외부 자원\n",
    "    - 파일, 원격지 컴퓨터(Network으로 연결된 컴퓨터의 자원), 데이터베이스 등.\n",
    "- **Stream**\n",
    "    - 입출력 시 **데이터의 흐름을 stream** 이라고 한다.\n",
    "- InputStream \n",
    "    - Program이 외부로 부터 데이터를 읽어 들이는 흐름.\n",
    "- OutputStream \n",
    "    - Program이 외부로 데이터를 써주는 흐름.\n",
    "\n",
    "\n",
    "![io](images/ch09_01.png)"
   ]
  },
  {
   "cell_type": "markdown",
   "metadata": {
    "slideshow": {
     "slide_type": "subslide"
    }
   },
   "source": [
    "## IO 코딩 순서\n",
    "![순서](images/ch09_02.png)"
   ]
  },
  {
   "cell_type": "code",
   "execution_count": null,
   "metadata": {},
   "outputs": [],
   "source": [
    "# 일방 통행\n",
    "# text냐 아니냐에 따라 방법이 달라짐"
   ]
  },
  {
   "cell_type": "markdown",
   "metadata": {
    "slideshow": {
     "slide_type": "subslide"
    }
   },
   "source": [
    "### 파일 열기(연결)\n",
    "- open() 함수 사용\n",
    "    - 연결된 파일과 입출력 메소드를 제공하는 객체(Stream)를 리턴\n",
    "- 구문\n",
    "    - `open(file, mode='r', encoding=None)`\n",
    "    - 함수 주요 매개변수\n",
    "        - file : 연결할 파일 경로\n",
    "        - encoding \n",
    "            - 입출력 대상이 **텍스트 파일일 경우** 인코딩 방식 설정\n",
    "            - 생략하면  **os 기본 encoding방식을 따른다.**\n",
    "                - Windows: cp949/euckr\n",
    "                - Linux, Unix: utf-8\n",
    "        - mode : 열기 모드\n",
    "            - mode는 목적, 데이터종류를 조합한 문자열을 사용한다.\n",
    "\n",
    "            |mode타입|mode문자|설명|\n",
    "            |:-|-|-|\n",
    "            |목적|r|읽기 모드-목적의 기본 모드|\n",
    "            ||w|새로 쓰기 모드|\n",
    "            ||a|이어 쓰기 모드|\n",
    "            ||x|새로 쓰기모드-연결하려는 파일이 있으면 Exception발생|\n",
    "            |데이터종류|b|binary 모드|\n",
    "            ||t|Text모드-text데이터 입출력시 사용|\n",
    "    "
   ]
  },
  {
   "cell_type": "markdown",
   "metadata": {
    "slideshow": {
     "slide_type": "subslide"
    }
   },
   "source": [
    "### 출력 메소드\n",
    "\n",
    "- write(출력할 Data)\n",
    "    - 연결된 파일에 `출력할 Data` 출력한다.\n",
    "- writelines(문자열을 가진 컬렉션)\n",
    "    - 리스트, 튜플, 집합이 원소로 가진 문자열들을 한번에 출력한다.\n",
    "    - text 출력일 경우에만 사용가능.\n",
    "    - 원소에 문자열 이외의 타입의 값이 있을 경우 TypeError 발생"
   ]
  },
  {
   "cell_type": "code",
   "execution_count": null,
   "metadata": {
    "slideshow": {
     "slide_type": "fragment"
    }
   },
   "outputs": [],
   "source": []
  },
  {
   "cell_type": "markdown",
   "metadata": {
    "slideshow": {
     "slide_type": "slide"
    }
   },
   "source": [
    "### 입력 메소드\n",
    "- read() : 문자열(text mode), bytes(binary mode) \n",
    "    - 연결된 파일의 내용을 한번에 모두 읽어 들인다.\n",
    "- readline() : 문자열(text mode), bytes(binary mode)\n",
    "    - 한 줄만 읽는다.\n",
    "    - text 입력일 경우만 사용가능\n",
    "    - 읽은 라인이 없으면 **빈문자열**을 리턴한다.\n",
    "- readlines() : 리스트\n",
    "    - 한번에 다 읽은 뒤 각각의 라인을 리스트에 원소로 담아 반환한다.\n",
    "- Text Input Stream (TextIOWrapper, BufferedReader)은 Iterable 타입.\n",
    "    - for문을 이용한 라인단위 순차 조회할 수 있다."
   ]
  },
  {
   "cell_type": "code",
   "execution_count": null,
   "metadata": {
    "slideshow": {
     "slide_type": "fragment"
    }
   },
   "outputs": [],
   "source": [
    "import os\n",
    "\n",
    "# 0. 파일을 저장할 디렉토리 생성\n",
    "os.makedirs(\"text\", exist_ok=True)\n",
    "\n",
    "# 1. 연결. open(파일경로(상대/절대 상관 x), mode=\"Input(r) or Output(w,a,x)/Data의 종료(t,b)\")\n",
    "fw = open(\"text/a.txt\", mode =\"wt\", encoding=\"utf-8\") #encoding: \"utf-8\", \"cp949\"(windows 한글 인코딩), 파이썬은 사용 중인 OS를 따라간다.\n",
    "\n",
    "# print(\"fw타입:\", type(fw))\n",
    "# fw타입: <class '_io.TextIOWrapper'>\n",
    "# 메소드를 담고있는 class\n",
    "\n",
    "# 2. 쓰기(w), 읽기(r)\n",
    "fw.write(\"안녕하세요.\\n\") #write(str: t모드, bytes: b모드)\n",
    "fw.write(\"반갑습니다.\")\n",
    "\n",
    "str_list = [\"\\n\\n\\n\", \"aaaaaa\", \"bbbbbb\", \"cccccc\"]\n",
    "fw.writelines(str_list)\n",
    "\n",
    "# 3. 연결 닫기(끊기)(필수)\n",
    "fw.close()"
   ]
  },
  {
   "cell_type": "code",
   "execution_count": 19,
   "metadata": {},
   "outputs": [
    {
     "name": "stdout",
     "output_type": "stream",
     "text": [
      "안녕하세요.\n",
      "반갑습니다.\n",
      "\n",
      "\n",
      "aaaaaabbbbbbcccccc\n"
     ]
    }
   ],
   "source": [
    "# Input\n",
    "import os\n",
    "\n",
    "# 1. 연결 (Input은 읽을 파일이 있어야 한다.)\n",
    "fr = open(\"text/a.txt\", mode = \"rt\", encoding= \"utf-8\")\n",
    "\n",
    "# print(\"fr 타입:\", type(fr))\n",
    "# fr 타입: <class '_io.TextIOWrapper'>\n",
    "\n",
    "# 2. 읽기 (input: r모드)\n",
    "txt = fr.read() # text모드, read() str\n",
    "print(txt)\n",
    "# 3. 연결 끊기\n",
    "fr.close()"
   ]
  },
  {
   "cell_type": "code",
   "execution_count": 15,
   "metadata": {},
   "outputs": [
    {
     "name": "stdout",
     "output_type": "stream",
     "text": [
      "['안녕하세요.\\n', '반갑습니다.\\n', '\\n', '\\n', 'aaaaaabbbbbbcccccc']\n"
     ]
    }
   ],
   "source": [
    "fr = open(\"text/a.txt\", mode = \"rt\", encoding= \"utf-8\")\n",
    "txt_list = fr.readlines() # 라인별 자르기\n",
    "print(txt_list)\n",
    "fr.close()"
   ]
  },
  {
   "cell_type": "code",
   "execution_count": 18,
   "metadata": {},
   "outputs": [
    {
     "name": "stdout",
     "output_type": "stream",
     "text": [
      "안녕하세요.\n",
      "\n"
     ]
    }
   ],
   "source": [
    "fr = open(\"text/a.txt\", mode = \"rt\", encoding=\"utf-8\")\n",
    "print(fr.readline()) # 한줄만 읽기\n",
    "fr.close()"
   ]
  },
  {
   "cell_type": "code",
   "execution_count": 23,
   "metadata": {},
   "outputs": [
    {
     "name": "stdout",
     "output_type": "stream",
     "text": [
      "1, 안녕하세요.\n",
      "\n",
      "---------------------\n",
      "2, 반갑습니다.\n",
      "\n",
      "---------------------\n",
      "3, \n",
      "\n",
      "---------------------\n",
      "4, \n",
      "\n",
      "---------------------\n",
      "5, aaaaaabbbbbbcccccc\n",
      "---------------------\n"
     ]
    }
   ],
   "source": [
    "# rt 모드의 TextIOWrapper는 iterable타입 (for in 사용가능 -> 한줄 씩 반환)\n",
    "fr = open(\"text/a.txt\", mode = \"rt\", encoding=\"utf-8\")\n",
    "\n",
    "for linenum, s in enumerate(fr, start=1):\n",
    "    print(f\"{linenum}, {s}\") # 한줄만 읽기\n",
    "    print(\"---------------------\")\n",
    "    \n",
    "fr.close()"
   ]
  },
  {
   "cell_type": "markdown",
   "metadata": {
    "slideshow": {
     "slide_type": "slide"
    }
   },
   "source": [
    "## with block\n",
    "\n",
    "파일과 입출력 작업이 다 끝나면 반드시 연결을 닫아야 한다. 매번 연결을 닫는 작업을 하는 것이 번거롭고 실수로 안 닫을 경우 문제가 생길 수 있다. **with block은 block을 벗어나면 자동으로 연결을 닫아 준다.** 그래서 연결을 닫는 코드를 생략할 수 있다.\n",
    "\n",
    "- 구문\n",
    "```python\n",
    "with open() as 변수: # `변수`는 open()이 반환하는 Stream객체를 참조한다.\n",
    "    입출력 작업      # 변수를 이용해 입출력 작업을 처리한다.\n",
    "# with block을 빠져 나오면 close()가 자동으로 실행된다.\n",
    "```"
   ]
  },
  {
   "cell_type": "code",
   "execution_count": null,
   "metadata": {},
   "outputs": [],
   "source": [
    "fr = open(\"text/a.txt\", mode = \"rt\", encoding=\"utf-8\")\n",
    "\n",
    "for linenum, s in enumerate(fr, start=1):\n",
    "    print(f\"{linenum}, {s}\") # 한줄만 읽기\n",
    "    print(\"---------------------\")\n",
    "    \n",
    "fr.close()"
   ]
  },
  {
   "cell_type": "code",
   "execution_count": 36,
   "metadata": {
    "slideshow": {
     "slide_type": "fragment"
    }
   },
   "outputs": [
    {
     "name": "stdout",
     "output_type": "stream",
     "text": [
      "1, 안녕하세요.\n",
      "\n",
      "---------------------\n",
      "2, 반갑습니다.\n",
      "\n",
      "---------------------\n",
      "3, \n",
      "\n",
      "---------------------\n",
      "4, \n",
      "\n",
      "---------------------\n",
      "5, aaaaaabbbbbbcccccc\n",
      "---------------------\n",
      "True\n"
     ]
    }
   ],
   "source": [
    "with open(\"text/a.txt\", mode=\"rt\", encoding=\"utf-8\") as fr:\n",
    "    for linenum, s in enumerate(fr, start=1):\n",
    "        print(f\"{linenum}, {s}\") # 한줄만 읽기\n",
    "        print(\"---------------------\")\n",
    "\n",
    "print(fr.closed) # 연결이 끊어졌는지 여부 확인\n",
    "# fr.close()"
   ]
  },
  {
   "cell_type": "code",
   "execution_count": 31,
   "metadata": {},
   "outputs": [],
   "source": [
    "from _io import TextIOWrapper"
   ]
  },
  {
   "cell_type": "code",
   "execution_count": 37,
   "metadata": {},
   "outputs": [
    {
     "name": "stdout",
     "output_type": "stream",
     "text": [
      "1, 안녕하세요.\n",
      "\n",
      "---------------------\n",
      "2, 반갑습니다.\n",
      "\n",
      "---------------------\n",
      "3, \n",
      "\n",
      "---------------------\n",
      "4, \n",
      "\n",
      "---------------------\n",
      "5, aaaaaabbbbbbcccccc\n",
      "---------------------\n",
      "False\n",
      "True\n"
     ]
    }
   ],
   "source": [
    "with open(\"text/a.txt\", mode=\"rt\", encoding=\"utf-8\") as fr:\n",
    "    for linenum, s in enumerate(fr, start=1):\n",
    "        print(f\"{linenum}, {s}\") # 한줄만 읽기\n",
    "        print(\"---------------------\")\n",
    "    print(fr.closed) # 연결이 끊어졌는지 여부 확인\n",
    "print(fr.closed) # 연결이 끊어졌는지 여부 확인\n",
    "\n",
    "fr.close()"
   ]
  },
  {
   "cell_type": "code",
   "execution_count": 38,
   "metadata": {},
   "outputs": [],
   "source": [
    "with open(\"text/b.txt\", \"wt\", encoding=\"utf-8\") as fw:\n",
    "    fw.write(\"a\\n\")\n",
    "    fw.write(\"b\\n\")\n",
    "    fw.write(\"가\\n\")\n",
    "    fw.write(\"나\\n\")"
   ]
  },
  {
   "cell_type": "markdown",
   "metadata": {},
   "source": [
    "# Binary Data 입출력\n",
    "\n",
    "## `bytes` type\n",
    "binary 데이터를 입출력하기 위한 타입.  \n",
    "파이썬의 하나의 출력함수로 다양한 데이터타입의 값을 출력하기 위해 **bytes 타입으로 변환** 해야 한다. \n",
    "또 binary 데이터를 읽을 경우 **bytes 타입**으로 반환한다. 이것을 저장 전 원래 타입으로 쓰기 위해서는 bytes에서 원래 타입으로 변환하는 작업이 필요하다. \n",
    "\n",
    "![img](images/ch10_03.png)"
   ]
  },
  {
   "cell_type": "code",
   "execution_count": null,
   "metadata": {},
   "outputs": [],
   "source": [
    "# bytes: 파이썬에서 나머지 데이터 읽고 쓰려고 만든 타입이다."
   ]
  },
  {
   "cell_type": "markdown",
   "metadata": {
    "slideshow": {
     "slide_type": "slide"
    }
   },
   "source": [
    "## pickle 모듈을 이용한 객체 직렬화\n",
    "- pickle 모듈: binary data 입출력을 도와주는 표준 라이브러리.\n",
    "\n",
    "### 객체 직렬화(Object Serialization)\n",
    "- 객체의 속성값들을 bytes로 변환해 출력하는 것을 객체 직렬화(Object Serialization) 이라고 한다.\n",
    "- bytes로 출력된 데이터를 읽어 객체화 하는 것을 객체 역직렬화(Object Deserialization) 이라고 한다."
   ]
  },
  {
   "cell_type": "markdown",
   "metadata": {
    "slideshow": {
     "slide_type": "fragment"
    }
   },
   "source": [
    "### pickle 모듈\n",
    "- binary 모드로 출력하거나 입력받을 경우 **bytes**  타입으로 입출력을 진행한다.\n",
    "    - 그런데 각각의 타입이 변환하는 방식이 다르기때문에 입출력 코드가 복잡해 지는 문제가 있다. 이것을 추상화해서 binary 데이터 입출력을 쉽게 처리할 수 있게하는 표준모듈이 pickle이다.\n",
    "    - 파이썬의 모든 값은 객체 이므로 pickle은 객체 직렬화, 역직렬화를 위한 파이썬 표준모듈이다.\n",
    "\n",
    "- 저장시 파일 확장자는 보통 `pkl` 이나 `pickle` 로 한다.\n",
    "- ex)\n",
    "```python\n",
    "#### binary mode로 설정한다.\n",
    "fw = open(\"data.pkl\", \"wb\") # 객체를 pickle에 저장하기 위한 output stream 생성\n",
    "fr = open(\"data.pkl\", \"rb\") # 파일에 저장된 객체를 읽어오기 위한 input stream 생성\n",
    "```\n",
    "- **메소드**\n",
    "    - dump(저장할 객체, fw) : 출력\n",
    "    - load(fr): 입력 - 읽은 객체를 반환한다."
   ]
  },
  {
   "cell_type": "code",
   "execution_count": 2,
   "metadata": {
    "slideshow": {
     "slide_type": "fragment"
    }
   },
   "outputs": [],
   "source": [
    "import pickle\n",
    "\n",
    "i = 1000000\n",
    "# binary를 파일에 출력 - mode: rb, wb\n",
    "with open(\"text/int_data.pickle\", \"wb\") as fo:\n",
    "    # print(type(fo))\n",
    "    # <class '_io.BufferedWriter'>\n",
    "    # fo(wrtie(i)) # int > 변환 > bytes 해야함\n",
    "    pickle.dump(i, fo)  # int > 변환 > bytes 과 fo.write() 출력을 대신해준다.\n"
   ]
  },
  {
   "cell_type": "code",
   "execution_count": 8,
   "metadata": {},
   "outputs": [
    {
     "name": "stdout",
     "output_type": "stream",
     "text": [
      "<class 'int'>\n",
      "1000000\n"
     ]
    }
   ],
   "source": [
    "with open(\"text/int_data.pickle\", \"rb\") as fi:\n",
    "    # print(type(fi))\n",
    "    # <class '_io.BufferedReader'>\n",
    "\n",
    "    # b = fi.read()\n",
    "    # print(type(b))\n",
    "    # <class 'bytes'> # int에 맞게끔 변환 해줘야 볼 수 있다.\n",
    "\n",
    "    load_i = pickle.load(fi) # fi에서 bytes를 read 한 후, 원래타입(int)로 변환\n",
    "    print(type(load_i))\n",
    "    print(load_i)\n"
   ]
  },
  {
   "cell_type": "code",
   "execution_count": null,
   "metadata": {},
   "outputs": [],
   "source": [
    "person_info = {\n",
    "    \"이름\": \"홍길동\",\n",
    "    \"나이\": 20,\n",
    "    \"주소\": \"서울\",\n",
    "    \"혈액형\": \"A형\"\n",
    "}\n",
    "with open(\"text/person.pickle\", \"wb\") as fo:\n",
    "    pickle.dump(person_info, fo)"
   ]
  },
  {
   "cell_type": "code",
   "execution_count": 10,
   "metadata": {},
   "outputs": [
    {
     "name": "stdout",
     "output_type": "stream",
     "text": [
      "<class 'dict'>\n"
     ]
    },
    {
     "data": {
      "text/plain": [
       "{'이름': '홍길동', '나이': 20, '주소': '서울', '혈액형': 'A형'}"
      ]
     },
     "execution_count": 10,
     "metadata": {},
     "output_type": "execute_result"
    }
   ],
   "source": [
    "with open(\"text/person.pickle\", \"rb\") as fi:\n",
    "    new_person_info = pickle.load(fi)\n",
    "\n",
    "print(type(new_person_info))\n",
    "new_person_info"
   ]
  },
  {
   "cell_type": "markdown",
   "metadata": {},
   "source": []
  },
  {
   "cell_type": "markdown",
   "metadata": {
    "slideshow": {
     "slide_type": "skip"
    }
   },
   "source": [
    "# TODO"
   ]
  },
  {
   "cell_type": "markdown",
   "metadata": {
    "slideshow": {
     "slide_type": "skip"
    }
   },
   "source": [
    "- ## 간단한 CLI 기반 메모장\n",
    "    1. 사용자로부터 파일명을 입력받는다.\n",
    "    2. 사용자로부터 파일에 저장할 문장을 입력받아서 파일에 저장한다.\n",
    "        - 한줄씩 입력받는다.\n",
    "        - 사용자가 !q 를 입력하면 저장후 종료한다.\n",
    "    3. 사용자가 저장한 파일을 읽어서 출력한다.\n"
   ]
  },
  {
   "cell_type": "code",
   "execution_count": 3,
   "metadata": {
    "slideshow": {
     "slide_type": "skip"
    }
   },
   "outputs": [
    {
     "name": "stdout",
     "output_type": "stream",
     "text": [
      "파일명을 입력해주세요.\n",
      "파일명이 CLI_basic으로 저장 되었습니다.\n",
      "파일에 저장할 문장을 입력해주세요.\n"
     ]
    }
   ],
   "source": [
    "import os\n",
    "\n",
    "print(\"파일명을 입력해주세요.\")\n",
    "file_name = input()\n",
    "print(f\"파일명이 {file_name}으로 저장 되었습니다.\")\n",
    "\n",
    "fw = open(f\"text/{file_name}.txt\", mode = \"wt\", encoding = \"utf-8\")\n",
    "\n",
    "user_text = ''\n",
    "print(\"파일에 저장할 문장을 입력해주세요.\")\n",
    "while True:\n",
    "    user_text = input()\n",
    "    if user_text == '!q':\n",
    "        break\n",
    "    fw.write(f\"{user_text}\\n\")\n",
    "\n",
    "fw.close()"
   ]
  }
 ],
 "metadata": {
  "kernelspec": {
   "display_name": "base",
   "language": "python",
   "name": "python3"
  },
  "language_info": {
   "codemirror_mode": {
    "name": "ipython",
    "version": 3
   },
   "file_extension": ".py",
   "mimetype": "text/x-python",
   "name": "python",
   "nbconvert_exporter": "python",
   "pygments_lexer": "ipython3",
   "version": "3.13.5"
  },
  "toc": {
   "base_numbering": 1,
   "nav_menu": {},
   "number_sections": true,
   "sideBar": true,
   "skip_h1_title": false,
   "title_cell": "Table of Contents",
   "title_sidebar": "Contents",
   "toc_cell": false,
   "toc_position": {},
   "toc_section_display": true,
   "toc_window_display": false
  },
  "varInspector": {
   "cols": {
    "lenName": 16,
    "lenType": 16,
    "lenVar": 40
   },
   "kernels_config": {
    "python": {
     "delete_cmd_postfix": "",
     "delete_cmd_prefix": "del ",
     "library": "var_list.py",
     "varRefreshCmd": "print(var_dic_list())"
    },
    "r": {
     "delete_cmd_postfix": ") ",
     "delete_cmd_prefix": "rm(",
     "library": "var_list.r",
     "varRefreshCmd": "cat(var_dic_list()) "
    }
   },
   "types_to_exclude": [
    "module",
    "function",
    "builtin_function_or_method",
    "instance",
    "_Feature"
   ],
   "window_display": false
  }
 },
 "nbformat": 4,
 "nbformat_minor": 4
}
